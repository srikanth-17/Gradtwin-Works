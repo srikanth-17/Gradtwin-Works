{
 "cells": [
  {
   "cell_type": "markdown",
   "metadata": {},
   "source": [
    "# Data cleaning\n",
    "\n",
    "`1.droping the irrelevant columns.`\n",
    "\n",
    "`2.Removing redunancy (duplicate data).`\n",
    "\n",
    "`3.treating the missing values.   -> mean(wont work on objects), mode ,median,random numbers, forward and backward filling , ML algorithms(wont work on objects)\n",
    "filna()- method  . depends on the data , how to treat the missing values is important. \n",
    "small percentage of null values can be filled `\n",
    "\n",
    "`4.fixing the inconsistent data\n",
    "method: astype(str)\n",
    "IND TN M/F`\n",
    "\n",
    "`5.Dealing with time related columns. \n",
    "pd.to_datetime method`\n",
    "\n"
   ]
  }
 ],
 "metadata": {
  "kernelspec": {
   "display_name": "Python 3",
   "language": "python",
   "name": "python3"
  },
  "language_info": {
   "codemirror_mode": {
    "name": "ipython",
    "version": 3
   },
   "file_extension": ".py",
   "mimetype": "text/x-python",
   "name": "python",
   "nbconvert_exporter": "python",
   "pygments_lexer": "ipython3",
   "version": "3.12.3"
  }
 },
 "nbformat": 4,
 "nbformat_minor": 2
}
