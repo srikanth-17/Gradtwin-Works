{
 "cells": [
  {
   "cell_type": "code",
   "execution_count": null,
   "metadata": {},
   "outputs": [],
   "source": [
    "print(\"hello\")"
   ]
  },
  {
   "cell_type": "code",
   "execution_count": null,
   "metadata": {},
   "outputs": [],
   "source": [
    "a=10\n",
    "print(type(a).__doc__)\n"
   ]
  },
  {
   "cell_type": "markdown",
   "metadata": {},
   "source": [
    "# Type conversion"
   ]
  },
  {
   "cell_type": "code",
   "execution_count": null,
   "metadata": {},
   "outputs": [],
   "source": [
    "a=10\n",
    "b=10.0\n",
    "c='10.1'\n",
    "print(type(a))\n",
    "print(type(b))\n",
    "print(type(c))\n"
   ]
  },
  {
   "cell_type": "code",
   "execution_count": 2,
   "metadata": {},
   "outputs": [
    {
     "name": "stdout",
     "output_type": "stream",
     "text": [
      "name is srikanth <class 'str'>, age is 21<class 'int'> and height is 160.5<class 'float'>\n",
      "['srikanth']\n"
     ]
    }
   ],
   "source": [
    "name=input(\"name\")\n",
    "age=int(input(\"age:\"))\n",
    "h=float(input(\"height\"))\n",
    "print(f\"name is {name} {type(name)}, age is {age}{type(age)} and height is {h}{type(h)}\")\n"
   ]
  },
  {
   "cell_type": "code",
   "execution_count": null,
   "metadata": {},
   "outputs": [],
   "source": [
    "name=input(\"name\")\n",
    "age=input(\"enter your age\")\n",
    "if int(age)>=18:\n",
    "    print(f\"{name} is eligible to vote\") \n",
    "else:\n",
    "    print(f\"{name} is not Eligible\")\n",
    "\n",
    "\n"
   ]
  },
  {
   "cell_type": "code",
   "execution_count": null,
   "metadata": {},
   "outputs": [],
   "source": [
    "# string input\n",
    "s=input()\n",
    "print(f\"string {s} converted to integer :{int(s)} == {type(int(s))}\")\n",
    "print(f\"string {s} converted to float :{float(s)} == {type(float(s))}\")\n",
    "# interger\n",
    "i=int(input())\n",
    "print(f\"integer {i} converted to string :{str(i)} == {type(str(i))}\")\n",
    "print(f\"integer {i} converted to float :{float(i)} == {type(float(i))}\")\n",
    "# float\n",
    "f=float(input())\n",
    "print(f\"float {f} converted to string :{str(f)} == {type(str(f))}\")\n",
    "print(f\"float {f} converted to integer :{int(f)} == {type(int(f))}\")\n"
   ]
  },
  {
   "cell_type": "markdown",
   "metadata": {},
   "source": [
    "# Python List"
   ]
  },
  {
   "cell_type": "code",
   "execution_count": 1,
   "metadata": {},
   "outputs": [
    {
     "name": "stdout",
     "output_type": "stream",
     "text": [
      "<class 'list'>\n"
     ]
    }
   ],
   "source": [
    "name=input(\"name\")\n",
    "age=int(input(\"age:\"))\n",
    "h=float(input(\"height\"))\n",
    "l=list((name,age,h))\n",
    "print(type(l))"
   ]
  },
  {
   "cell_type": "markdown",
   "metadata": {},
   "source": [
    "## input single and multiple values in the list and removing the same."
   ]
  },
  {
   "cell_type": "code",
   "execution_count": 39,
   "metadata": {},
   "outputs": [
    {
     "name": "stdout",
     "output_type": "stream",
     "text": [
      "[1, 2, 3, 4, 5, 6] [1] [2, 21, 22, 23, 24]\n",
      "[1, 2, 3, 5, 6, 7, 8, 9]\n",
      "[1, 2, 3, 5, 6]\n"
     ]
    }
   ],
   "source": [
    "l=list((1,2,3,4,5,6)) #multiple values to the list\n",
    "l2=list((1,)) #single value to the list \n",
    "\n",
    "#by index\n",
    "l3=[None]\n",
    "l3[0]=2 #adding single value using indexx\n",
    "l3[1:5]=21,22,23,24 #multiple values using index\n",
    "print(l,l2,l3)\n",
    "\n",
    "#removing elements\n",
    "l4=[1,2,3,4,5,6,7,8,9]\n",
    "l4[3:4]=[] # removing specified index list[n:n+1]=[]\n",
    "print(l4)\n",
    "l4[5:]=[] #multiple elements \n",
    "print(l4)\n",
    "\n",
    "# l.append(value)      l.extend([])   l.insert(index,value)   l.pop()   l.remove(value)"
   ]
  },
  {
   "cell_type": "markdown",
   "metadata": {},
   "source": [
    "## Nested List"
   ]
  },
  {
   "cell_type": "code",
   "execution_count": 52,
   "metadata": {},
   "outputs": [
    {
     "name": "stdout",
     "output_type": "stream",
     "text": [
      "[[['ss', 20, 300], ['ww', 10, 500]]]\n"
     ]
    }
   ],
   "source": [
    "gro=list(\n",
    "    ((list((\"groceries\",\"quantity\",\"amount\")),\n",
    "      list((\"tom\",20,100)),\n",
    "      list((\"pot\",10,200))))\n",
    "    ) \n",
    "# print(gro)\n",
    "# for i in gro:\n",
    "#     print(i)\n",
    "\n",
    "l=[[]]\n",
    "n=int(input(\"n elements\"))\n",
    "for j in range(n):\n",
    "    for i in l:\n",
    "        a=input(\"enter the groceries\")\n",
    "        b=int(input(\"enter the quantity\"))\n",
    "        c=int(input(\"amount:\"))\n",
    "        li=[a,b,c]\n",
    "        i.append(li)\n",
    "print(l)\n",
    "\n",
    "\n",
    "\n",
    "\n",
    "\n",
    "\n",
    "\n"
   ]
  },
  {
   "cell_type": "code",
   "execution_count": null,
   "metadata": {},
   "outputs": [],
   "source": [
    "# tuple\n",
    "m = input(\"Enter  \")\n",
    "quan = input(\"Enter  \")\n",
    "amt = input(\"Enter  \")\n",
    "\n",
    "i = input(\"Enter  \")\n",
    "q = int(input(\"Enter \"))\n",
    "a = float(input(\"Enter \"))\n",
    "tup = (\n",
    "    tuple([m, quan, amt]),\n",
    "    tuple([i, q, a])\n",
    ")\n",
    "\n",
    "print(\"Nested Tuple:\", tup)\n"
   ]
  },
  {
   "cell_type": "markdown",
   "metadata": {},
   "source": [
    "## Dict Operations\n"
   ]
  },
  {
   "cell_type": "code",
   "execution_count": 47,
   "metadata": {},
   "outputs": [
    {
     "name": "stdout",
     "output_type": "stream",
     "text": [
      "2\n"
     ]
    }
   ],
   "source": [
    "d={} #dict()\n",
    "d[\"names\"]=[\"srikanth\",\"navin raj\",\"surya prakash\"]\n",
    "d[\"IDs\"]=set((\"GT240F0319\",\"GT240F0182\",\"GT240F0415\"))\n",
    "# for i in d:\n",
    "#     print(f\"{i} --> {d[i]}\")\n",
    "\n",
    "# d.clear() clear all the dictionary\n",
    "\n",
    "# x=d.copy() copy of the dict\n",
    "# print(x)\n",
    "\n",
    "# dd=dict.fromkeys((\"name\",\"age\"),\"K\")   diffrent keys with same value\n",
    "# print(dd)\n",
    "\n",
    "# x=d.get('names') get(key)--> value\n",
    "# print(x)\n",
    "\n",
    "# for i in d.items():\n",
    "#     print(i)         d.items= iterable list of key and value pairs\n",
    "\n",
    "# print(d.keys())   all the keys        =list\n",
    "# print(d.values())  values of the dict =list\n",
    "\n",
    "# d.pop('names')\n",
    "# print(d)           remove the values of the specified keys\n",
    "\n",
    "# d.update({\"age\":(21,20,20)})   update((key iter):(value iter))\n",
    "# print(d)\n",
    "\n",
    "# print(len(d)) length of the dict \n"
   ]
  }
 ],
 "metadata": {
  "kernelspec": {
   "display_name": "Python 3",
   "language": "python",
   "name": "python3"
  },
  "language_info": {
   "codemirror_mode": {
    "name": "ipython",
    "version": 3
   },
   "file_extension": ".py",
   "mimetype": "text/x-python",
   "name": "python",
   "nbconvert_exporter": "python",
   "pygments_lexer": "ipython3",
   "version": "3.12.3"
  }
 },
 "nbformat": 4,
 "nbformat_minor": 2
}
